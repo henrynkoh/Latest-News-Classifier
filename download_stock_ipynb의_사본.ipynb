{
  "nbformat": 4,
  "nbformat_minor": 0,
  "metadata": {
    "colab": {
      "name": "download_stock.ipynb의 사본",
      "provenance": [],
      "collapsed_sections": [],
      "toc_visible": true,
      "include_colab_link": true
    },
    "kernelspec": {
      "name": "python3",
      "display_name": "Python 3"
    },
    "accelerator": "TPU"
  },
  "cells": [
    {
      "cell_type": "markdown",
      "metadata": {
        "id": "view-in-github",
        "colab_type": "text"
      },
      "source": [
        "<a href=\"https://colab.research.google.com/github/henrynkoh/Latest-News-Classifier/blob/master/download_stock_ipynb%EC%9D%98_%EC%82%AC%EB%B3%B8.ipynb\" target=\"_parent\"><img src=\"https://colab.research.google.com/assets/colab-badge.svg\" alt=\"Open In Colab\"/></a>"
      ]
    },
    {
      "cell_type": "code",
      "metadata": {
        "id": "SKXPgmXg6yox",
        "colab_type": "code",
        "colab": {}
      },
      "source": [
        "import pandas as pd\n",
        "import pandas_datareader as pdr\n",
        "\n",
        "# 종목 타입에 따라 download url이 다름. 종목코드 뒤에 .KS .KQ등이 입력되어야해서 Download Link 구분 필요\n",
        "stock_type = {\n",
        "    'kospi': 'stockMkt',\n",
        "    'kosdaq': 'kosdaqMkt'\n",
        "}\n",
        "\n",
        "# 회사명으로 주식 종목 코드를 획득할 수 있도록 하는 함수\n",
        "def get_code(df, name):\n",
        "  code = df.query(\"name=='{}'\".format(name))['code'].to_string(index=False)\n",
        "  \n",
        "  # 위와같이 code명을 가져오면 앞에 공백이 붙어있는 상황이 발생하여 앞뒤로 sript() 하여 공백 제거\n",
        "  code = code.strip()\n",
        "  return code\n",
        "\n",
        "# download url 조합\n",
        "def get_download_stock(market_type=None):\n",
        "  market_type_param = stock_type[market_type]\n",
        "  download_link = 'http://kind.krx.co.kr/corpgeneral/corpList.do'\n",
        "  download_link = download_link + '?method=download'\n",
        "  download_link = download_link + '&marketType=' + market_type_param\n",
        "\n",
        "  df = pd.read_html(download_link, header=0)[0]\n",
        "  return df;\n",
        "\n",
        "# kospi 종목코드 목록 다운로드\n",
        "def get_download_kospi():\n",
        "  df = get_download_stock('kospi')\n",
        "  df.종목코드 = df.종목코드.map('{:06d}.KS'.format)\n",
        "  return df\n",
        "\n",
        "# kosdaq 종목코드 목록 다운로드\n",
        "def get_download_kosdaq():\n",
        "  df = get_download_stock('kosdaq')\n",
        "  df.종목코드 = df.종목코드.map('{:06d}.KQ'.format)\n",
        "  return df"
      ],
      "execution_count": null,
      "outputs": []
    },
    {
      "cell_type": "code",
      "metadata": {
        "id": "du_mxF3YJV7B",
        "colab_type": "code",
        "colab": {}
      },
      "source": [
        "from google.colab import drive\n",
        "drive.mount('/content/drive')"
      ],
      "execution_count": null,
      "outputs": []
    },
    {
      "cell_type": "code",
      "metadata": {
        "id": "qCzwkfwH63ey",
        "colab_type": "code",
        "colab": {
          "base_uri": "https://localhost:8080/",
          "height": 419
        },
        "outputId": "840ddd6c-31b2-4dfd-fcc2-549380d1e2e5"
      },
      "source": [
        "\n",
        "# kospi, kosdaq 종목코드 각각 다운로드\n",
        "kospi_df = get_download_kospi()\n",
        "kosdaq_df = get_download_kosdaq()\n",
        "\n",
        "# data frame merge\n",
        "code_df = pd.concat([kospi_df, kosdaq_df])\n",
        "\n",
        "# data frame정리\n",
        "code_df = code_df[['회사명', '종목코드']]\n",
        "\n",
        "# data frame title 변경 '회사명' = name, 종목코드 = 'code'\n",
        "code_df = code_df.rename(columns={'회사명': 'name', '종목코드': 'code'})\n",
        "\n",
        "code_df"
      ],
      "execution_count": null,
      "outputs": [
        {
          "output_type": "execute_result",
          "data": {
            "text/html": [
              "<div>\n",
              "<style scoped>\n",
              "    .dataframe tbody tr th:only-of-type {\n",
              "        vertical-align: middle;\n",
              "    }\n",
              "\n",
              "    .dataframe tbody tr th {\n",
              "        vertical-align: top;\n",
              "    }\n",
              "\n",
              "    .dataframe thead th {\n",
              "        text-align: right;\n",
              "    }\n",
              "</style>\n",
              "<table border=\"1\" class=\"dataframe\">\n",
              "  <thead>\n",
              "    <tr style=\"text-align: right;\">\n",
              "      <th></th>\n",
              "      <th>name</th>\n",
              "      <th>code</th>\n",
              "    </tr>\n",
              "  </thead>\n",
              "  <tbody>\n",
              "    <tr>\n",
              "      <th>0</th>\n",
              "      <td>JS전선</td>\n",
              "      <td>005560.KS</td>\n",
              "    </tr>\n",
              "    <tr>\n",
              "      <th>1</th>\n",
              "      <td>거북선2호</td>\n",
              "      <td>101380.KS</td>\n",
              "    </tr>\n",
              "    <tr>\n",
              "      <th>2</th>\n",
              "      <td>거북선6호</td>\n",
              "      <td>114140.KS</td>\n",
              "    </tr>\n",
              "    <tr>\n",
              "      <th>3</th>\n",
              "      <td>교보메리츠</td>\n",
              "      <td>064900.KS</td>\n",
              "    </tr>\n",
              "    <tr>\n",
              "      <th>4</th>\n",
              "      <td>국제관광공사</td>\n",
              "      <td>028780.KS</td>\n",
              "    </tr>\n",
              "    <tr>\n",
              "      <th>...</th>\n",
              "      <td>...</td>\n",
              "      <td>...</td>\n",
              "    </tr>\n",
              "    <tr>\n",
              "      <th>2210</th>\n",
              "      <td>한라IMS</td>\n",
              "      <td>092460.KQ</td>\n",
              "    </tr>\n",
              "    <tr>\n",
              "      <th>2211</th>\n",
              "      <td>홈센타홀딩스</td>\n",
              "      <td>060560.KQ</td>\n",
              "    </tr>\n",
              "    <tr>\n",
              "      <th>2212</th>\n",
              "      <td>화신테크</td>\n",
              "      <td>086250.KQ</td>\n",
              "    </tr>\n",
              "    <tr>\n",
              "      <th>2213</th>\n",
              "      <td>휴맥스</td>\n",
              "      <td>115160.KQ</td>\n",
              "    </tr>\n",
              "    <tr>\n",
              "      <th>2214</th>\n",
              "      <td>휴메딕스</td>\n",
              "      <td>200670.KQ</td>\n",
              "    </tr>\n",
              "  </tbody>\n",
              "</table>\n",
              "<p>3602 rows × 2 columns</p>\n",
              "</div>"
            ],
            "text/plain": [
              "        name       code\n",
              "0       JS전선  005560.KS\n",
              "1      거북선2호  101380.KS\n",
              "2      거북선6호  114140.KS\n",
              "3      교보메리츠  064900.KS\n",
              "4     국제관광공사  028780.KS\n",
              "...      ...        ...\n",
              "2210   한라IMS  092460.KQ\n",
              "2211  홈센타홀딩스  060560.KQ\n",
              "2212    화신테크  086250.KQ\n",
              "2213     휴맥스  115160.KQ\n",
              "2214    휴메딕스  200670.KQ\n",
              "\n",
              "[3602 rows x 2 columns]"
            ]
          },
          "metadata": {
            "tags": []
          },
          "execution_count": 3
        }
      ]
    },
    {
      "cell_type": "code",
      "metadata": {
        "id": "jQ4LVDazitBi",
        "colab_type": "code",
        "colab": {
          "base_uri": "https://localhost:8080/",
          "height": 286
        },
        "outputId": "6b689e80-37ca-4dd3-b8c9-2ae9d16576d7"
      },
      "source": [
        "code = get_code(code_df, '삼성전자')\n",
        "\n",
        "df = pdr.get_data_yahoo(code)\n",
        "\n",
        "df['Close'].plot()"
      ],
      "execution_count": null,
      "outputs": [
        {
          "output_type": "execute_result",
          "data": {
            "text/plain": [
              "<matplotlib.axes._subplots.AxesSubplot at 0x7f84c62f39b0>"
            ]
          },
          "metadata": {
            "tags": []
          },
          "execution_count": 4
        },
        {
          "output_type": "display_data",
          "data": {
            "image/png": "[encoded data removed]",
            "text/plain": [
              "<Figure size 432x288 with 1 Axes>"
            ]
          },
          "metadata": {
            "tags": []
          }
        }
      ]
    },
    {
      "cell_type": "code",
      "metadata": {
        "id": "nEjQze6Gizzk",
        "colab_type": "code",
        "colab": {
          "base_uri": "https://localhost:8080/",
          "height": 335
        },
        "outputId": "fdf03117-2ae6-4155-84f6-f55d974e4a31"
      },
      "source": [
        "# 수정주가를 반영\n",
        "df = pdr.get_data_yahoo(code, adjust_price=True)\n",
        "\n",
        "df['Close'].plot(figsize=(10, 5))"
      ],
      "execution_count": null,
      "outputs": [
        {
          "output_type": "execute_result",
          "data": {
            "text/plain": [
              "<matplotlib.axes._subplots.AxesSubplot at 0x7f84c44fee48>"
            ]
          },
          "metadata": {
            "tags": []
          },
          "execution_count": 14
        },
        {
          "output_type": "display_data",
          "data": {
            "image/png": "[encoded data removed]",
            "text/plain": [
              "<Figure size 720x360 with 1 Axes>"
            ]
          },
          "metadata": {
            "tags": []
          }
        }
      ]
    },
    {
      "cell_type": "code",
      "metadata": {
        "id": "b7RHAryOkm0X",
        "colab_type": "code",
        "colab": {
          "base_uri": "https://localhost:8080/",
          "height": 450
        },
        "outputId": "a72b0253-99d9-4d7c-87c2-9ceb47b43ce0"
      },
      "source": [
        "df"
      ],
      "execution_count": null,
      "outputs": [
        {
          "output_type": "execute_result",
          "data": {
            "text/html": [
              "<div>\n",
              "<style scoped>\n",
              "    .dataframe tbody tr th:only-of-type {\n",
              "        vertical-align: middle;\n",
              "    }\n",
              "\n",
              "    .dataframe tbody tr th {\n",
              "        vertical-align: top;\n",
              "    }\n",
              "\n",
              "    .dataframe thead th {\n",
              "        text-align: right;\n",
              "    }\n",
              "</style>\n",
              "<table border=\"1\" class=\"dataframe\">\n",
              "  <thead>\n",
              "    <tr style=\"text-align: right;\">\n",
              "      <th></th>\n",
              "      <th>High</th>\n",
              "      <th>Low</th>\n",
              "      <th>Open</th>\n",
              "      <th>Close</th>\n",
              "      <th>Volume</th>\n",
              "      <th>Adj_Ratio</th>\n",
              "    </tr>\n",
              "    <tr>\n",
              "      <th>Date</th>\n",
              "      <th></th>\n",
              "      <th></th>\n",
              "      <th></th>\n",
              "      <th></th>\n",
              "      <th></th>\n",
              "      <th></th>\n",
              "    </tr>\n",
              "  </thead>\n",
              "  <tbody>\n",
              "    <tr>\n",
              "      <th>2010-01-04</th>\n",
              "      <td>5.854249</td>\n",
              "      <td>5.789121</td>\n",
              "      <td>5.810831</td>\n",
              "      <td>5.854249</td>\n",
              "      <td>11950800.0</td>\n",
              "      <td>0.000362</td>\n",
              "    </tr>\n",
              "    <tr>\n",
              "      <th>2010-01-05</th>\n",
              "      <td>5.998978</td>\n",
              "      <td>5.897668</td>\n",
              "      <td>5.977268</td>\n",
              "      <td>5.948323</td>\n",
              "      <td>27925850.0</td>\n",
              "      <td>0.000362</td>\n",
              "    </tr>\n",
              "    <tr>\n",
              "      <th>2010-01-06</th>\n",
              "      <td>6.085815</td>\n",
              "      <td>5.977269</td>\n",
              "      <td>5.998978</td>\n",
              "      <td>6.085815</td>\n",
              "      <td>22948850.0</td>\n",
              "      <td>0.000362</td>\n",
              "    </tr>\n",
              "    <tr>\n",
              "      <th>2010-01-07</th>\n",
              "      <td>6.085815</td>\n",
              "      <td>5.883196</td>\n",
              "      <td>6.085815</td>\n",
              "      <td>5.883196</td>\n",
              "      <td>22107950.0</td>\n",
              "      <td>0.000362</td>\n",
              "    </tr>\n",
              "    <tr>\n",
              "      <th>2010-01-08</th>\n",
              "      <td>5.941086</td>\n",
              "      <td>5.832540</td>\n",
              "      <td>5.933850</td>\n",
              "      <td>5.941086</td>\n",
              "      <td>14777550.0</td>\n",
              "      <td>0.000362</td>\n",
              "    </tr>\n",
              "    <tr>\n",
              "      <th>...</th>\n",
              "      <td>...</td>\n",
              "      <td>...</td>\n",
              "      <td>...</td>\n",
              "      <td>...</td>\n",
              "      <td>...</td>\n",
              "      <td>...</td>\n",
              "    </tr>\n",
              "    <tr>\n",
              "      <th>2019-12-20</th>\n",
              "      <td>56500.000000</td>\n",
              "      <td>55600.000000</td>\n",
              "      <td>56100.000000</td>\n",
              "      <td>56000.000000</td>\n",
              "      <td>12095519.0</td>\n",
              "      <td>1.000000</td>\n",
              "    </tr>\n",
              "    <tr>\n",
              "      <th>2019-12-23</th>\n",
              "      <td>56400.000000</td>\n",
              "      <td>55100.000000</td>\n",
              "      <td>56100.000000</td>\n",
              "      <td>55500.000000</td>\n",
              "      <td>9839252.0</td>\n",
              "      <td>1.000000</td>\n",
              "    </tr>\n",
              "    <tr>\n",
              "      <th>2019-12-24</th>\n",
              "      <td>55700.000000</td>\n",
              "      <td>54800.000000</td>\n",
              "      <td>55600.000000</td>\n",
              "      <td>55000.000000</td>\n",
              "      <td>11868463.0</td>\n",
              "      <td>1.000000</td>\n",
              "    </tr>\n",
              "    <tr>\n",
              "      <th>2019-12-26</th>\n",
              "      <td>55400.000000</td>\n",
              "      <td>54400.000000</td>\n",
              "      <td>54700.000000</td>\n",
              "      <td>55400.000000</td>\n",
              "      <td>9645034.0</td>\n",
              "      <td>1.000000</td>\n",
              "    </tr>\n",
              "    <tr>\n",
              "      <th>2019-12-27</th>\n",
              "      <td>56900.000000</td>\n",
              "      <td>55500.000000</td>\n",
              "      <td>55700.000000</td>\n",
              "      <td>56500.000000</td>\n",
              "      <td>12261635.0</td>\n",
              "      <td>1.000000</td>\n",
              "    </tr>\n",
              "  </tbody>\n",
              "</table>\n",
              "<p>2453 rows × 6 columns</p>\n",
              "</div>"
            ],
            "text/plain": [
              "                    High           Low  ...      Volume  Adj_Ratio\n",
              "Date                                    ...                       \n",
              "2010-01-04      5.854249      5.789121  ...  11950800.0   0.000362\n",
              "2010-01-05      5.998978      5.897668  ...  27925850.0   0.000362\n",
              "2010-01-06      6.085815      5.977269  ...  22948850.0   0.000362\n",
              "2010-01-07      6.085815      5.883196  ...  22107950.0   0.000362\n",
              "2010-01-08      5.941086      5.832540  ...  14777550.0   0.000362\n",
              "...                  ...           ...  ...         ...        ...\n",
              "2019-12-20  56500.000000  55600.000000  ...  12095519.0   1.000000\n",
              "2019-12-23  56400.000000  55100.000000  ...   9839252.0   1.000000\n",
              "2019-12-24  55700.000000  54800.000000  ...  11868463.0   1.000000\n",
              "2019-12-26  55400.000000  54400.000000  ...   9645034.0   1.000000\n",
              "2019-12-27  56900.000000  55500.000000  ...  12261635.0   1.000000\n",
              "\n",
              "[2453 rows x 6 columns]"
            ]
          },
          "metadata": {
            "tags": []
          },
          "execution_count": 6
        }
      ]
    },
    {
      "cell_type": "code",
      "metadata": {
        "id": "X8ZQKi-yn4oa",
        "colab_type": "code",
        "colab": {
          "base_uri": "https://localhost:8080/",
          "height": 209
        },
        "outputId": "a8c2e8e1-f8a8-4444-a0b2-7b8e63d4b699"
      },
      "source": [
        "df.info()"
      ],
      "execution_count": null,
      "outputs": [
        {
          "output_type": "stream",
          "text": [
            "<class 'pandas.core.frame.DataFrame'>\n",
            "DatetimeIndex: 2453 entries, 2010-01-04 to 2019-12-27\n",
            "Data columns (total 6 columns):\n",
            "High         2453 non-null float64\n",
            "Low          2453 non-null float64\n",
            "Open         2453 non-null float64\n",
            "Close        2453 non-null float64\n",
            "Volume       2453 non-null float64\n",
            "Adj_Ratio    2453 non-null float64\n",
            "dtypes: float64(6)\n",
            "memory usage: 134.1 KB\n"
          ],
          "name": "stdout"
        }
      ]
    },
    {
      "cell_type": "code",
      "metadata": {
        "id": "j1xs7rYXp1mD",
        "colab_type": "code",
        "colab": {}
      },
      "source": [
        ""
      ],
      "execution_count": null,
      "outputs": []
    }
  ]
}